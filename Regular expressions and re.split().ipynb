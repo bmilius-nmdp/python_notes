{
 "cells": [
  {
   "cell_type": "markdown",
   "metadata": {},
   "source": [
    "# Regular Expressions and `re.split()`"
   ]
  },
  {
   "cell_type": "markdown",
   "metadata": {},
   "source": [
    "I want to parse a GL String and put all alleles into a list. We will use `re.split()` to do this.\n",
    "\n",
    "GL String containing all delimiters:"
   ]
  },
  {
   "cell_type": "code",
   "execution_count": 1,
   "metadata": {
    "collapsed": false
   },
   "outputs": [
    {
     "name": "stdout",
     "output_type": "stream",
     "text": [
      "HLA-A*01:01/HLA-A*01:02+HLA-A*24:02|HLA-A*01:03/HLA-A*01:04+HLA-A*24:03^HLA-B*08:01+HLA-B*44:02^HLA-DRB5*01:01~HLA-DRB1*03:01\n"
     ]
    }
   ],
   "source": [
    "glstring = 'HLA-A*01:01/HLA-A*01:02+HLA-A*24:02|HLA-A*01:03/HLA-A*01:04+HLA-A*24:03^HLA-B*08:01+HLA-B*44:02^HLA-DRB5*01:01~HLA-DRB1*03:01'\n",
    "print(glstring)"
   ]
  },
  {
   "cell_type": "code",
   "execution_count": 2,
   "metadata": {
    "collapsed": true
   },
   "outputs": [],
   "source": [
    "def gl_to_allele(gl):\n",
    "    alleles = []\n",
    "    for locus_block in gl.split('^'):\n",
    "        for genotype in locus_block.split('|'):\n",
    "            for locus in genotype.split('+'):\n",
    "                for allele_list in locus.split('~'):\n",
    "                    for allele in allele_list.split('/'):\n",
    "                        alleles.append(allele)\n",
    "    return alleles"
   ]
  },
  {
   "cell_type": "code",
   "execution_count": 3,
   "metadata": {
    "collapsed": false
   },
   "outputs": [
    {
     "data": {
      "text/plain": [
       "['HLA-A*01:01',\n",
       " 'HLA-A*01:02',\n",
       " 'HLA-A*24:02',\n",
       " 'HLA-A*01:03',\n",
       " 'HLA-A*01:04',\n",
       " 'HLA-A*24:03',\n",
       " 'HLA-B*08:01',\n",
       " 'HLA-B*44:02',\n",
       " 'HLA-DRB5*01:01',\n",
       " 'HLA-DRB1*03:01']"
      ]
     },
     "execution_count": 3,
     "metadata": {},
     "output_type": "execute_result"
    }
   ],
   "source": [
    "gl_to_allele(glstring)"
   ]
  },
  {
   "cell_type": "code",
   "execution_count": 4,
   "metadata": {
    "collapsed": false
   },
   "outputs": [
    {
     "data": {
      "text/plain": [
       "['HLA-A*01:01',\n",
       " 'HLA-A*01:02',\n",
       " 'HLA-A*24:02',\n",
       " 'HLA-A*01:03',\n",
       " 'HLA-A*01:04',\n",
       " 'HLA-A*24:03',\n",
       " 'HLA-B*08:01',\n",
       " 'HLA-B*44:02',\n",
       " 'HLA-DRB5*01:01',\n",
       " 'HLA-DRB1*03:01']"
      ]
     },
     "execution_count": 4,
     "metadata": {},
     "output_type": "execute_result"
    }
   ],
   "source": [
    "import re\n",
    "re.split('[\\^+|~/]', glstring)"
   ]
  },
  {
   "cell_type": "markdown",
   "metadata": {},
   "source": [
    "I learned something new about regular expressions in python. In my example above, I escape the `^` using `\\^`. This is because the `^` is a negation character. BUT it only negates if it’s the first character in the set. So if I reorder the set to move the `^` inside the set of chars, then it loses its meaning. For example,  `re.split('[+^|~/]', g)` has the desired behavior, and is much more readable and no escaping is necessary.\n",
    "\n",
    "Here's what happens if I don't escape the `^`"
   ]
  },
  {
   "cell_type": "code",
   "execution_count": 5,
   "metadata": {
    "collapsed": false
   },
   "outputs": [
    {
     "data": {
      "text/plain": [
       "['',\n",
       " '',\n",
       " '',\n",
       " '',\n",
       " '',\n",
       " '',\n",
       " '',\n",
       " '',\n",
       " '',\n",
       " '',\n",
       " '',\n",
       " '/',\n",
       " '',\n",
       " '',\n",
       " '',\n",
       " '',\n",
       " '',\n",
       " '',\n",
       " '',\n",
       " '',\n",
       " '',\n",
       " '',\n",
       " '+',\n",
       " '',\n",
       " '',\n",
       " '',\n",
       " '',\n",
       " '',\n",
       " '',\n",
       " '',\n",
       " '',\n",
       " '',\n",
       " '',\n",
       " '|',\n",
       " '',\n",
       " '',\n",
       " '',\n",
       " '',\n",
       " '',\n",
       " '',\n",
       " '',\n",
       " '',\n",
       " '',\n",
       " '',\n",
       " '/',\n",
       " '',\n",
       " '',\n",
       " '',\n",
       " '',\n",
       " '',\n",
       " '',\n",
       " '',\n",
       " '',\n",
       " '',\n",
       " '',\n",
       " '+',\n",
       " '',\n",
       " '',\n",
       " '',\n",
       " '',\n",
       " '',\n",
       " '',\n",
       " '',\n",
       " '',\n",
       " '',\n",
       " '',\n",
       " '',\n",
       " '',\n",
       " '',\n",
       " '',\n",
       " '',\n",
       " '',\n",
       " '',\n",
       " '',\n",
       " '',\n",
       " '',\n",
       " '',\n",
       " '',\n",
       " '+',\n",
       " '',\n",
       " '',\n",
       " '',\n",
       " '',\n",
       " '',\n",
       " '',\n",
       " '',\n",
       " '',\n",
       " '',\n",
       " '',\n",
       " '',\n",
       " '',\n",
       " '',\n",
       " '',\n",
       " '',\n",
       " '',\n",
       " '',\n",
       " '',\n",
       " '',\n",
       " '',\n",
       " '',\n",
       " '',\n",
       " '',\n",
       " '',\n",
       " '',\n",
       " '~',\n",
       " '',\n",
       " '',\n",
       " '',\n",
       " '',\n",
       " '',\n",
       " '',\n",
       " '',\n",
       " '',\n",
       " '',\n",
       " '',\n",
       " '',\n",
       " '',\n",
       " '',\n",
       " '']"
      ]
     },
     "execution_count": 5,
     "metadata": {},
     "output_type": "execute_result"
    }
   ],
   "source": [
    "re.split('[^+|~/]', glstring)"
   ]
  },
  {
   "cell_type": "markdown",
   "metadata": {},
   "source": [
    "Here's what happens when I move the `^` inside the set of chars. This is the desired behavior."
   ]
  },
  {
   "cell_type": "code",
   "execution_count": 6,
   "metadata": {
    "collapsed": false
   },
   "outputs": [
    {
     "data": {
      "text/plain": [
       "['HLA-A*01:01',\n",
       " 'HLA-A*01:02',\n",
       " 'HLA-A*24:02',\n",
       " 'HLA-A*01:03',\n",
       " 'HLA-A*01:04',\n",
       " 'HLA-A*24:03',\n",
       " 'HLA-B*08:01',\n",
       " 'HLA-B*44:02',\n",
       " 'HLA-DRB5*01:01',\n",
       " 'HLA-DRB1*03:01']"
      ]
     },
     "execution_count": 6,
     "metadata": {},
     "output_type": "execute_result"
    }
   ],
   "source": [
    "re.split('[+^|~/]', glstring)"
   ]
  },
  {
   "cell_type": "code",
   "execution_count": 7,
   "metadata": {
    "collapsed": false
   },
   "outputs": [
    {
     "data": {
      "text/plain": [
       "['HLA-A*01:01',\n",
       " 'HLA-A*01:02',\n",
       " 'HLA-A*24:02',\n",
       " 'HLA-A*01:03',\n",
       " 'HLA-A*01:04',\n",
       " 'HLA-A*24:03',\n",
       " 'HLA-B*08:01',\n",
       " 'HLA-B*44:02',\n",
       " 'HLA-DRB5*01:01',\n",
       " 'HLA-DRB1*03:01']"
      ]
     },
     "execution_count": 7,
     "metadata": {},
     "output_type": "execute_result"
    }
   ],
   "source": [
    "re.split(r'[+^|~/]', glstring)"
   ]
  },
  {
   "cell_type": "code",
   "execution_count": null,
   "metadata": {
    "collapsed": true
   },
   "outputs": [],
   "source": []
  },
  {
   "cell_type": "code",
   "execution_count": null,
   "metadata": {
    "collapsed": true
   },
   "outputs": [],
   "source": []
  }
 ],
 "metadata": {
  "kernelspec": {
   "display_name": "Python 3",
   "language": "python",
   "name": "python3"
  },
  "language_info": {
   "codemirror_mode": {
    "name": "ipython",
    "version": 3
   },
   "file_extension": ".py",
   "mimetype": "text/x-python",
   "name": "python",
   "nbconvert_exporter": "python",
   "pygments_lexer": "ipython3",
   "version": "3.6.0"
  }
 },
 "nbformat": 4,
 "nbformat_minor": 2
}
